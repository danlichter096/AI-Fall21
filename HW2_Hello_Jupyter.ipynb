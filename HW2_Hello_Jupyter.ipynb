{
 "cells": [
  {
   "cell_type": "markdown",
   "metadata": {},
   "source": [
    "<a href=\"https://colab.research.google.com/github/danlichter096/AI-Fall21/blob/main/HW2_Hello_Jupyter.ipynb\">\n",
    "  <img src=\"https://colab.research.google.com/assets/colab-badge.svg\" alt=\"Open In Colab\"/>\n",
    "</a>"
   ]
  },
  {
   "cell_type": "markdown",
   "metadata": {},
   "source": [
    "# Daniel Lichter Hello Jupyter"
   ]
  },
  {
   "cell_type": "markdown",
   "metadata": {},
   "source": [
    "## Calculations"
   ]
  },
  {
   "cell_type": "markdown",
   "metadata": {},
   "source": [
    "For my Hello Jupyter-First Notebook, I will solve the Taylor polynomials centered at 0, $T_n(x) = \\sum \\limits _{k = 0} ^{n} \\dfrac {f^{(k)}(0)}{k!}(x)^k $ for $f = cos(x)$ for each value of $x \\in \\{\\dfrac{1}{10},\\dfrac{2}{10},\\dfrac{3}{10},\\dfrac{4}{10} \\}$ which is equivalent to $x=\\dfrac{j}{10}$, for $j$ = 1,2,3,4."
   ]
  },
  {
   "cell_type": "markdown",
   "metadata": {},
   "source": [
    "This calculation requires taking the derivative of $f = cos(x)$ which can be done using sympy's .diff() and .subs() functions."
   ]
  },
  {
   "cell_type": "code",
   "execution_count": 1,
   "metadata": {},
   "outputs": [],
   "source": [
    "from sympy import Symbol, cos"
   ]
  },
  {
   "cell_type": "markdown",
   "metadata": {},
   "source": [
    "I will also use the cosine function from numpy and the factorial function from the math module."
   ]
  },
  {
   "cell_type": "code",
   "execution_count": 2,
   "metadata": {},
   "outputs": [],
   "source": [
    "import numpy\n",
    "from math import factorial, pi"
   ]
  },
  {
   "cell_type": "markdown",
   "metadata": {},
   "source": [
    "To do calculate the Taylor polynomial, I will create a taylor_poly( ) function. This function will have inputs n which is where the summation ends and x which is the value we are trying to calculate. The function will calculate and return the sum of the Taylor Polynomial. "
   ]
  },
  {
   "cell_type": "code",
   "execution_count": 3,
   "metadata": {},
   "outputs": [],
   "source": [
    "def taylor_poly(x,n):\n",
    "    t_sum = 0\n",
    "    x0 = Symbol('x')\n",
    "    y = cos(x0)\n",
    "    for k in range(n+1):\n",
    "        t_sum += (y.diff(x0,k).subs(x0,0)/factorial(k))*pow(x,k)\n",
    "    return t_sum"
   ]
  },
  {
   "cell_type": "markdown",
   "metadata": {},
   "source": [
    "At this point, for each value of $j$, we want to find the smallest integer n such that $\\lvert T_n(\\dfrac{j}{10}) - cos(\\dfrac{j}{10})  \\rvert < 10^{-12} $. To get this, I will create a smallest_n() function that loops through the values of j and calculates the smallest n for each j that satisfies that condition. I will multiply j by pi so we can get the value in degrees instead of radians. The function returns a list of lists containing the data calculated from the two functions. The multi-dimensional list will make it easier to visualize the data."
   ]
  },
  {
   "cell_type": "code",
   "execution_count": 4,
   "metadata": {},
   "outputs": [],
   "source": [
    "def smallest_n():\n",
    "    val = []\n",
    "    for j in range(1,10):\n",
    "        n = 0\n",
    "        f_x = cos(j/10)\n",
    "        while(abs(taylor_poly(j/10,n)-f_x)>pow(10,-12)):\n",
    "            n+=1\n",
    "        val.append([j,j/10,n,taylor_poly(j/10,n), numpy.cos(j/10), abs(taylor_poly(j/10,n)-f_x),\n",
    "                    abs(taylor_poly(j/10,n)-f_x)/f_x, (pow((j/10),n+1)/factorial(n+1))]) #j, x, n, taylor, actual, error for Taylor, absolute error, rel\n",
    "    return val\n",
    "taylor_sums = smallest_n()"
   ]
  },
  {
   "cell_type": "markdown",
   "metadata": {},
   "source": [
    "The one variable that the function returns is the remainder bound calculated by taking the max value of $f^{n+1}(z)$ which for cos(x) is 1. and then calculating this equation $\\dfrac {(1)(x)^{n+1}}{(n+1)!} = \\dfrac {x^{n+1}}{(n+1)!}$."
   ]
  },
  {
   "cell_type": "markdown",
   "metadata": {},
   "source": [
    "Next, I will take the list from the smallest_n() function and put it into a panda DataFrame so that we can see the values nicely in a table and be able to plot and analyze the data. "
   ]
  },
  {
   "cell_type": "code",
   "execution_count": 5,
   "metadata": {},
   "outputs": [
    {
     "data": {
      "text/html": [
       "<div>\n",
       "<style scoped>\n",
       "    .dataframe tbody tr th:only-of-type {\n",
       "        vertical-align: middle;\n",
       "    }\n",
       "\n",
       "    .dataframe tbody tr th {\n",
       "        vertical-align: top;\n",
       "    }\n",
       "\n",
       "    .dataframe thead th {\n",
       "        text-align: right;\n",
       "    }\n",
       "</style>\n",
       "<table border=\"1\" class=\"dataframe\">\n",
       "  <thead>\n",
       "    <tr style=\"text-align: right;\">\n",
       "      <th></th>\n",
       "      <th>J</th>\n",
       "      <th>X</th>\n",
       "      <th>n</th>\n",
       "      <th>Calculated Taylor Polynomial</th>\n",
       "      <th>Exact Value</th>\n",
       "      <th>Absolute Error</th>\n",
       "      <th>Relative Error</th>\n",
       "      <th>Remainder Bound</th>\n",
       "    </tr>\n",
       "  </thead>\n",
       "  <tbody>\n",
       "    <tr>\n",
       "      <th>0</th>\n",
       "      <td>1</td>\n",
       "      <td>0.1</td>\n",
       "      <td>6</td>\n",
       "      <td>0.995004165277778</td>\n",
       "      <td>0.995004</td>\n",
       "      <td>2.47912801398797e-13</td>\n",
       "      <td>2.49157551345049e-13</td>\n",
       "      <td>1.984127e-11</td>\n",
       "    </tr>\n",
       "    <tr>\n",
       "      <th>1</th>\n",
       "      <td>2</td>\n",
       "      <td>0.2</td>\n",
       "      <td>8</td>\n",
       "      <td>0.980066577841270</td>\n",
       "      <td>0.980067</td>\n",
       "      <td>2.81996648254790e-14</td>\n",
       "      <td>2.87732134357580e-14</td>\n",
       "      <td>1.410935e-12</td>\n",
       "    </tr>\n",
       "    <tr>\n",
       "      <th>2</th>\n",
       "      <td>3</td>\n",
       "      <td>0.3</td>\n",
       "      <td>10</td>\n",
       "      <td>0.955336489125605</td>\n",
       "      <td>0.955336</td>\n",
       "      <td>1.11022302462516e-15</td>\n",
       "      <td>1.16212772909084e-15</td>\n",
       "      <td>4.437906e-14</td>\n",
       "    </tr>\n",
       "    <tr>\n",
       "      <th>3</th>\n",
       "      <td>4</td>\n",
       "      <td>0.4</td>\n",
       "      <td>10</td>\n",
       "      <td>0.921060994002850</td>\n",
       "      <td>0.921061</td>\n",
       "      <td>3.50830475781549e-14</td>\n",
       "      <td>3.80898201167827e-14</td>\n",
       "      <td>1.050762e-12</td>\n",
       "    </tr>\n",
       "    <tr>\n",
       "      <th>4</th>\n",
       "      <td>5</td>\n",
       "      <td>0.5</td>\n",
       "      <td>10</td>\n",
       "      <td>0.877582561889864</td>\n",
       "      <td>0.877583</td>\n",
       "      <td>5.09037256790634e-13</td>\n",
       "      <td>5.80044862894875e-13</td>\n",
       "      <td>1.223247e-11</td>\n",
       "    </tr>\n",
       "    <tr>\n",
       "      <th>5</th>\n",
       "      <td>6</td>\n",
       "      <td>0.6</td>\n",
       "      <td>12</td>\n",
       "      <td>0.825335614909687</td>\n",
       "      <td>0.825336</td>\n",
       "      <td>8.99280649946377e-15</td>\n",
       "      <td>1.08959389816807e-14</td>\n",
       "      <td>2.097423e-13</td>\n",
       "    </tr>\n",
       "    <tr>\n",
       "      <th>6</th>\n",
       "      <td>7</td>\n",
       "      <td>0.7</td>\n",
       "      <td>12</td>\n",
       "      <td>0.764842187284566</td>\n",
       "      <td>0.764842</td>\n",
       "      <td>7.76045894212984e-14</td>\n",
       "      <td>1.01464839036700e-13</td>\n",
       "      <td>1.555945e-12</td>\n",
       "    </tr>\n",
       "    <tr>\n",
       "      <th>7</th>\n",
       "      <td>8</td>\n",
       "      <td>0.8</td>\n",
       "      <td>12</td>\n",
       "      <td>0.696706709347669</td>\n",
       "      <td>0.696707</td>\n",
       "      <td>5.03153074760121e-13</td>\n",
       "      <td>7.22187784342697e-13</td>\n",
       "      <td>8.828553e-12</td>\n",
       "    </tr>\n",
       "    <tr>\n",
       "      <th>8</th>\n",
       "      <td>9</td>\n",
       "      <td>0.9</td>\n",
       "      <td>14</td>\n",
       "      <td>0.621609968270656</td>\n",
       "      <td>0.621610</td>\n",
       "      <td>8.77076189453874e-15</td>\n",
       "      <td>1.41097510371966e-14</td>\n",
       "      <td>1.574483e-13</td>\n",
       "    </tr>\n",
       "  </tbody>\n",
       "</table>\n",
       "</div>"
      ],
      "text/plain": [
       "   J    X   n Calculated Taylor Polynomial  Exact Value        Absolute Error  \\\n",
       "0  1  0.1   6            0.995004165277778     0.995004  2.47912801398797e-13   \n",
       "1  2  0.2   8            0.980066577841270     0.980067  2.81996648254790e-14   \n",
       "2  3  0.3  10            0.955336489125605     0.955336  1.11022302462516e-15   \n",
       "3  4  0.4  10            0.921060994002850     0.921061  3.50830475781549e-14   \n",
       "4  5  0.5  10            0.877582561889864     0.877583  5.09037256790634e-13   \n",
       "5  6  0.6  12            0.825335614909687     0.825336  8.99280649946377e-15   \n",
       "6  7  0.7  12            0.764842187284566     0.764842  7.76045894212984e-14   \n",
       "7  8  0.8  12            0.696706709347669     0.696707  5.03153074760121e-13   \n",
       "8  9  0.9  14            0.621609968270656     0.621610  8.77076189453874e-15   \n",
       "\n",
       "         Relative Error  Remainder Bound  \n",
       "0  2.49157551345049e-13     1.984127e-11  \n",
       "1  2.87732134357580e-14     1.410935e-12  \n",
       "2  1.16212772909084e-15     4.437906e-14  \n",
       "3  3.80898201167827e-14     1.050762e-12  \n",
       "4  5.80044862894875e-13     1.223247e-11  \n",
       "5  1.08959389816807e-14     2.097423e-13  \n",
       "6  1.01464839036700e-13     1.555945e-12  \n",
       "7  7.22187784342697e-13     8.828553e-12  \n",
       "8  1.41097510371966e-14     1.574483e-13  "
      ]
     },
     "execution_count": 5,
     "metadata": {},
     "output_type": "execute_result"
    }
   ],
   "source": [
    "import pandas as pd\n",
    "taylor_df = pd.DataFrame(taylor_sums, columns = ('J', 'X', 'n', 'Calculated Taylor Polynomial', 'Exact Value', 'Absolute Error', 'Relative Error', 'Remainder Bound'))\n",
    "taylor_df"
   ]
  },
  {
   "cell_type": "markdown",
   "metadata": {},
   "source": [
    "# Discussion"
   ]
  },
  {
   "cell_type": "markdown",
   "metadata": {},
   "source": [
    "Looking at the table, we can see the values of the calculated sum, the exact value, and 3 different types of errors. As seen in the table, n increases by 2 for j = {1,2,3} but then stays at 10 for j = 4. Even though it wasnt necessary, I increased the values of j to see if the n stays the same for larger values of j (or x). Additionally, the calculated value of cos(x) decreases as x gets larger which makes sense because cos(x) ranges from [-1,1] and starts at 1 and decreases until $\\dfrac {\\pi}{2} $ is reached."
   ]
  },
  {
   "cell_type": "markdown",
   "metadata": {},
   "source": [
    "First I want to look at if there is any correlation between the absolute error and x.  "
   ]
  },
  {
   "cell_type": "code",
   "execution_count": 6,
   "metadata": {},
   "outputs": [
    {
     "data": {
      "image/png": "[encoded data removed]",
      "text/plain": [
       "<Figure size 432x288 with 1 Axes>"
      ]
     },
     "metadata": {
      "needs_background": "light"
     },
     "output_type": "display_data"
    }
   ],
   "source": [
    "import matplotlib.pyplot as plt\n",
    "plt.plot(taylor_df['X'],taylor_df['Absolute Error'])\n",
    "plt.xlabel('X')\n",
    "plt.ylabel('Taylor Polynomial Error')\n",
    "plt.show()"
   ]
  },
  {
   "cell_type": "markdown",
   "metadata": {},
   "source": [
    "From the graph above, it is quite clear to see that there is no correlation between X and the Absolute error."
   ]
  },
  {
   "cell_type": "markdown",
   "metadata": {},
   "source": [
    "Next, I want to plot the calculated value and each of the errors to compare the 3 error bounds."
   ]
  },
  {
   "cell_type": "code",
   "execution_count": 7,
   "metadata": {},
   "outputs": [
    {
     "data": {
      "image/png": "[encoded data removed]",
      "text/plain": [
       "<Figure size 432x288 with 1 Axes>"
      ]
     },
     "metadata": {
      "needs_background": "light"
     },
     "output_type": "display_data"
    }
   ],
   "source": [
    "plt.plot(taylor_df['Calculated Taylor Polynomial'],taylor_df['Remainder Bound'],'b-')\n",
    "plt.plot(taylor_df['Calculated Taylor Polynomial'],taylor_df['Relative Error'],'g-')\n",
    "plt.plot(taylor_df['Calculated Taylor Polynomial'],taylor_df['Absolute Error'],'r-')\n",
    "plt.xlabel('Calculated Taylor Polynomial')\n",
    "plt.ylabel('Taylor Polynomial Error')\n",
    "plt.legend()\n",
    "plt.show()"
   ]
  },
  {
   "cell_type": "markdown",
   "metadata": {},
   "source": [
    "And I will do the same with the exact value and the three errors."
   ]
  },
  {
   "cell_type": "code",
   "execution_count": 8,
   "metadata": {},
   "outputs": [
    {
     "data": {
      "image/png": "[encoded data removed]",
      "text/plain": [
       "<Figure size 432x288 with 1 Axes>"
      ]
     },
     "metadata": {
      "needs_background": "light"
     },
     "output_type": "display_data"
    }
   ],
   "source": [
    "plt.plot(taylor_df['Exact Value'],taylor_df['Remainder Bound'],'b-')\n",
    "plt.plot(taylor_df['Exact Value'],taylor_df['Relative Error'],'g-')\n",
    "plt.plot(taylor_df['Exact Value'],taylor_df['Absolute Error'],'r-')\n",
    "plt.xlabel('Exact Value')\n",
    "plt.ylabel('Taylor Polynomial Error')\n",
    "plt.legend()\n",
    "plt.show()"
   ]
  },
  {
   "cell_type": "markdown",
   "metadata": {},
   "source": [
    "As expected the graphs look the same, yet I thought it would be helpful to visualize it."
   ]
  },
  {
   "cell_type": "markdown",
   "metadata": {},
   "source": [
    "## Conclusion"
   ]
  },
  {
   "cell_type": "markdown",
   "metadata": {},
   "source": [
    "Comparing our error bounds to the error bounds for taylor polynomial, you can see that the Remainder bound is  larger than relative error or absolute error for every value. This happens because we choose the maximum value of cos(x) to represent the largest possible error. We choose the largest possible error because we want to assume the worst case possible to tell how far away we are from the exact value."
   ]
  },
  {
   "cell_type": "markdown",
   "metadata": {},
   "source": [
    "Through my calculations, I have proven the remainder theorem and shown that for all values of x, $\\lvert R_n(x)\\rvert ≤ \\dfrac {max_z\\lvert f^{n+1}(Z)\\rvert}{(n+1)!}\\lvert x-a\\rvert^{n+1}$"
   ]
  },
  {
   "cell_type": "markdown",
   "metadata": {},
   "source": [
    "I hope this AI meme gets me a nice arbitrary brownie point!"
   ]
  },
  {
   "cell_type": "markdown",
   "metadata": {},
   "source": [
    "<img src=\"giphy.gif\" width=\"750\" align=\"center\">"
   ]
  }
 ],
 "metadata": {
  "kernelspec": {
   "display_name": "Python 3",
   "language": "python",
   "name": "python3"
  },
  "language_info": {
   "codemirror_mode": {
    "name": "ipython",
    "version": 3
   },
   "file_extension": ".py",
   "mimetype": "text/x-python",
   "name": "python",
   "nbconvert_exporter": "python",
   "pygments_lexer": "ipython3",
   "version": "3.7.3"
  }
 },
 "nbformat": 4,
 "nbformat_minor": 2
}
